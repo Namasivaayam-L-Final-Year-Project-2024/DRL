{
 "cells": [
  {
   "cell_type": "code",
   "execution_count": null,
   "metadata": {},
   "outputs": [],
   "source": [
    "import tensorflow as tf\n",
    "import numpy as np\n",
    "import gym"
   ]
  },
  {
   "cell_type": "code",
   "execution_count": null,
   "metadata": {},
   "outputs": [],
   "source": [
    "import tensorflow as tf\n",
    "\n",
    "class PPOPolicy:\n",
    "\n",
    "    def __init__(self, obs_size, act_size):\n",
    "        self.model = tf.keras.Sequential([\n",
    "            tf.keras.layers.Input(obs_size),\n",
    "            tf.keras.layers.Dense(128, activation=\"relu\"),\n",
    "            tf.keras.layers.Dense(act_size, activation=\"softmax\")\n",
    "        ])\n",
    "\n",
    "    def predict(self, states):\n",
    "        probs = self.model(states)\n",
    "        return probs\n",
    "\n",
    "    def update(self, states, advantages):\n",
    "        loss = tf.keras.losses.mse(advantages, self.model(states))\n",
    "        self.model.fit(states, advantages, epochs=1, verbose=0)\n"
   ]
  },
  {
   "cell_type": "code",
   "execution_count": null,
   "metadata": {},
   "outputs": [],
   "source": [
    "import tensorflow as tf\n",
    "\n",
    "class CriticNetwork:\n",
    "\n",
    "    def __init__(self):\n",
    "        self.model = tf.keras.Sequential([\n",
    "            tf.keras.layers.Input(obs_size + act_size),\n",
    "            tf.keras.layers.Dense(128, activation=\"relu\"),\n",
    "            tf.keras.layers.Dense(1, activation=\"linear\")\n",
    "        ])\n",
    "\n",
    "    def predict(self, states, actions):\n",
    "        state_action = tf.concat([states, actions], axis=1)\n",
    "        value = self.model(state_action)\n",
    "        return value\n",
    "\n"
   ]
  },
  {
   "cell_type": "code",
   "execution_count": null,
   "metadata": {},
   "outputs": [],
   "source": [
    "\n",
    "class PPOAgent:\n",
    "\n",
    "    def __init__(self, env, policy, critic):\n",
    "        self.env = env\n",
    "        self.policy = policy\n",
    "        self.critic = critic\n",
    "\n",
    "    def train(self, num_epochs, batch_size):\n",
    "        for epoch in range(num_epochs):\n",
    "            # Collect a batch of data from the environment.\n",
    "            states, actions, rewards, next_states = self.env.sample(batch_size)\n",
    "\n",
    "            # Calculate the advantage function.\n",
    "            advantages = self.critic.predict(states, next_states) - self.critic.predict(states)\n",
    "\n",
    "            # Update the policy.\n",
    "            old_policy_probs = self.policy.predict(states)\n",
    "            new_policy_probs = self.policy.predict(states, actions)\n",
    "            ratios = new_policy_probs / old_policy_probs\n",
    "            advantages = advantages * tf.clip_by_value(ratios, 1.0 - 0.05, 1.0 + 0.05)\n",
    "            self.policy.update(states, advantages)\n",
    "\n",
    "    def evaluate(self):\n",
    "        # Evaluate the policy on a set of test episodes.\n",
    "        rewards = []\n",
    "        for _ in range(10):\n",
    "            state = self.env.reset()\n",
    "            episode_reward = 0\n",
    "            while not self.env.done:\n",
    "                action = self.policy.predict(state)\n",
    "                next_state, reward, done, _ = self.env.step(action)\n",
    "                episode_reward += reward\n",
    "                state = next_state\n",
    "            rewards.append(episode_reward)\n",
    "        return np.mean(rewards)"
   ]
  },
  {
   "cell_type": "code",
   "execution_count": 16,
   "metadata": {},
   "outputs": [
    {
     "ename": "DeprecatedEnv",
     "evalue": "Environment version v0 for `Pendulum` is deprecated. Please use `Pendulum-v1` instead.",
     "output_type": "error",
     "traceback": [
      "\u001b[0;31m---------------------------------------------------------------------------\u001b[0m",
      "\u001b[0;31mDeprecatedEnv\u001b[0m                             Traceback (most recent call last)",
      "Cell \u001b[0;32mIn[16], line 3\u001b[0m\n\u001b[1;32m      1\u001b[0m \u001b[39mimport\u001b[39;00m \u001b[39mgym\u001b[39;00m\n\u001b[0;32m----> 3\u001b[0m env \u001b[39m=\u001b[39m gym\u001b[39m.\u001b[39;49mmake(\u001b[39m\"\u001b[39;49m\u001b[39mPendulum-v0\u001b[39;49m\u001b[39m\"\u001b[39;49m,  \u001b[39m# use 'Pendulum-v0' for discrete action space\u001b[39;49;00m\n\u001b[1;32m      4\u001b[0m                 action_space\u001b[39m=\u001b[39;49mgym\u001b[39m.\u001b[39;49mspaces\u001b[39m.\u001b[39;49mDiscrete(\u001b[39m3\u001b[39;49m))\n\u001b[1;32m      5\u001b[0m obs_size \u001b[39m=\u001b[39m env\u001b[39m.\u001b[39mobservation_space\u001b[39m.\u001b[39mshape[\u001b[39m0\u001b[39m]\n\u001b[1;32m      6\u001b[0m act_size \u001b[39m=\u001b[39m env\u001b[39m.\u001b[39maction_space\u001b[39m.\u001b[39mn\n",
      "File \u001b[0;32m~/.local/lib/python3.11/site-packages/gym/envs/registration.py:569\u001b[0m, in \u001b[0;36mmake\u001b[0;34m(id, max_episode_steps, autoreset, apply_api_compatibility, disable_env_checker, **kwargs)\u001b[0m\n\u001b[1;32m    563\u001b[0m         logger\u001b[39m.\u001b[39mwarn(\n\u001b[1;32m    564\u001b[0m             \u001b[39mf\u001b[39m\u001b[39m\"\u001b[39m\u001b[39mUsing the latest versioned environment `\u001b[39m\u001b[39m{\u001b[39;00mnew_env_id\u001b[39m}\u001b[39;00m\u001b[39m` \u001b[39m\u001b[39m\"\u001b[39m\n\u001b[1;32m    565\u001b[0m             \u001b[39mf\u001b[39m\u001b[39m\"\u001b[39m\u001b[39minstead of the unversioned environment `\u001b[39m\u001b[39m{\u001b[39;00m\u001b[39mid\u001b[39m\u001b[39m}\u001b[39;00m\u001b[39m`.\u001b[39m\u001b[39m\"\u001b[39m\n\u001b[1;32m    566\u001b[0m         )\n\u001b[1;32m    568\u001b[0m     \u001b[39mif\u001b[39;00m spec_ \u001b[39mis\u001b[39;00m \u001b[39mNone\u001b[39;00m:\n\u001b[0;32m--> 569\u001b[0m         _check_version_exists(ns, name, version)\n\u001b[1;32m    570\u001b[0m         \u001b[39mraise\u001b[39;00m error\u001b[39m.\u001b[39mError(\u001b[39mf\u001b[39m\u001b[39m\"\u001b[39m\u001b[39mNo registered env with id: \u001b[39m\u001b[39m{\u001b[39;00m\u001b[39mid\u001b[39m\u001b[39m}\u001b[39;00m\u001b[39m\"\u001b[39m)\n\u001b[1;32m    572\u001b[0m _kwargs \u001b[39m=\u001b[39m spec_\u001b[39m.\u001b[39mkwargs\u001b[39m.\u001b[39mcopy()\n",
      "File \u001b[0;32m~/.local/lib/python3.11/site-packages/gym/envs/registration.py:251\u001b[0m, in \u001b[0;36m_check_version_exists\u001b[0;34m(ns, name, version)\u001b[0m\n\u001b[1;32m    248\u001b[0m     \u001b[39mraise\u001b[39;00m error\u001b[39m.\u001b[39mVersionNotFound(message)\n\u001b[1;32m    250\u001b[0m \u001b[39mif\u001b[39;00m latest_spec \u001b[39mis\u001b[39;00m \u001b[39mnot\u001b[39;00m \u001b[39mNone\u001b[39;00m \u001b[39mand\u001b[39;00m version \u001b[39m<\u001b[39m latest_spec\u001b[39m.\u001b[39mversion:\n\u001b[0;32m--> 251\u001b[0m     \u001b[39mraise\u001b[39;00m error\u001b[39m.\u001b[39mDeprecatedEnv(\n\u001b[1;32m    252\u001b[0m         \u001b[39mf\u001b[39m\u001b[39m\"\u001b[39m\u001b[39mEnvironment version v\u001b[39m\u001b[39m{\u001b[39;00mversion\u001b[39m}\u001b[39;00m\u001b[39m for `\u001b[39m\u001b[39m{\u001b[39;00mget_env_id(ns,\u001b[39m \u001b[39mname,\u001b[39m \u001b[39m\u001b[39mNone\u001b[39;00m)\u001b[39m}\u001b[39;00m\u001b[39m` is deprecated. \u001b[39m\u001b[39m\"\u001b[39m\n\u001b[1;32m    253\u001b[0m         \u001b[39mf\u001b[39m\u001b[39m\"\u001b[39m\u001b[39mPlease use `\u001b[39m\u001b[39m{\u001b[39;00mlatest_spec\u001b[39m.\u001b[39mid\u001b[39m}\u001b[39;00m\u001b[39m` instead.\u001b[39m\u001b[39m\"\u001b[39m\n\u001b[1;32m    254\u001b[0m     )\n",
      "\u001b[0;31mDeprecatedEnv\u001b[0m: Environment version v0 for `Pendulum` is deprecated. Please use `Pendulum-v1` instead."
     ]
    }
   ],
   "source": [
    "import gym\n",
    "\n",
    "env = gym.make(\"Pendulum-v0\",  # use 'Pendulum-v0' for discrete action space\n",
    "                action_space=gym.spaces.Discrete(3))\n",
    "obs_size = env.observation_space.shape[0]\n",
    "act_size = env.action_space.n\n",
    "policy = PPOPolicy(obs_size, act_size)\n",
    "critic = CriticNetwork()\n",
    "agent = PPOAgent(env, policy, critic)\n",
    "agent.train(100, 100)\n",
    "reward = agent.evaluate()\n",
    "print(\"The average reward is:\", reward)\n"
   ]
  }
 ],
 "metadata": {
  "kernelspec": {
   "display_name": "Python 3",
   "language": "python",
   "name": "python3"
  },
  "language_info": {
   "codemirror_mode": {
    "name": "ipython",
    "version": 3
   },
   "file_extension": ".py",
   "mimetype": "text/x-python",
   "name": "python",
   "nbconvert_exporter": "python",
   "pygments_lexer": "ipython3",
   "version": "3.11.3"
  },
  "orig_nbformat": 4
 },
 "nbformat": 4,
 "nbformat_minor": 2
}
