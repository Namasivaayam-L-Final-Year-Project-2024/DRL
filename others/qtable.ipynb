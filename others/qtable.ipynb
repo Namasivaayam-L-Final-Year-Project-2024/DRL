{
 "cells": [
  {
   "cell_type": "code",
   "execution_count": 37,
   "metadata": {},
   "outputs": [],
   "source": [
    "import random\n",
    "import numpy as np\n",
    "HIGH,LOW = 1,-1"
   ]
  },
  {
   "cell_type": "code",
   "execution_count": 43,
   "metadata": {},
   "outputs": [],
   "source": [
    "def identify(list_of_numbers):\n",
    "  hash_value = 0\n",
    "  for number in list_of_numbers:\n",
    "    hash_value = hash_value * 11 + number\n",
    "  return hash_value % 10\n",
    "\n",
    "class TrafficSignalAgent:\n",
    "    def __init__(self):\n",
    "        self.state = np.random.randint(5,size=4)\n",
    "        self.actions = [0, 1, 2, 3]\n",
    "        self.reward = 0\n",
    "        self.epsilon = 1.0\n",
    "        self.gamma = 0.9\n",
    "        self.Q = np.zeros((10, 4))\n",
    "\n",
    "    def step(self):\n",
    "        action = random.choice(self.actions) if self.epsilon > random.random() else np.argmax(self.Q[self.state])\n",
    "        # self.state = action\n",
    "        self.reward = self.reward_function(action)\n",
    "        print(identify(self.state),action,self.reward)\n",
    "        self.Q[identify(self.state)][action] += self.gamma * (self.reward + np.max(self.Q[self.state]))\n",
    "        self.epsilon *= 0.99\n",
    "\n",
    "    def reward_function(self,action): \n",
    "        if list(self.state).index(min(self.state)) == action:\n",
    "            reward = HIGH*np.random.randint(20)\n",
    "        else:\n",
    "            reward = LOW*np.random.randint(10)    \n",
    "        return reward"
   ]
  },
  {
   "cell_type": "code",
   "execution_count": null,
   "metadata": {},
   "outputs": [],
   "source": [
    "ag = TrafficSignalAgent()\n",
    "for _ in range(10000):\n",
    "    ag.state = np.random.randint(10,size=4)\n",
    "    ag.step()\n",
    "print(ag.Q)"
   ]
  }
 ],
 "metadata": {
  "kernelspec": {
   "display_name": "Python 3",
   "language": "python",
   "name": "python3"
  },
  "language_info": {
   "codemirror_mode": {
    "name": "ipython",
    "version": 3
   },
   "file_extension": ".py",
   "mimetype": "text/x-python",
   "name": "python",
   "nbconvert_exporter": "python",
   "pygments_lexer": "ipython3",
   "version": "3.11.3"
  },
  "orig_nbformat": 4
 },
 "nbformat": 4,
 "nbformat_minor": 2
}
