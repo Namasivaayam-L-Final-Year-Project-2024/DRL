{
 "cells": [
  {
   "cell_type": "code",
   "execution_count": 1,
   "metadata": {},
   "outputs": [],
   "source": [
    "TIME=5\n",
    "import time\n",
    "import random as rd"
   ]
  },
  {
   "cell_type": "code",
   "execution_count": 1,
   "metadata": {},
   "outputs": [],
   "source": [
    "class DRL:\n",
    "  states = []\n",
    "  actions=[]\n",
    "  red = []\n",
    "  green = 0\n",
    "\n",
    "  def wait(self,n): \n",
    "    time.sleep(n) \n",
    "\n",
    "  def get_max_idx(self,list_):\n",
    "    return list_.index(max(list_))\n",
    "  \n",
    "  def gen_rd_val(self,n):\n",
    "    return [rd.randint(0,10) for _ in range(n) ]\n",
    "  \n",
    "  def roundx30(number):\n",
    "    remainder = number % 30\n",
    "    if remainder < 15:\n",
    "      return number - remainder\n",
    "    else:\n",
    "      return number + (30 - remainder)\n",
    "  \n",
    "  def generate_states(self,n):\n",
    "    return [self.gen_rd_val(4) for _ in range(n) ]\n",
    "  "
   ]
  },
  {
   "cell_type": "code",
   "execution_count": null,
   "metadata": {},
   "outputs": [],
   "source": [
    "def reward_function(state, action):\n",
    "  \"\"\"\n",
    "  Returns a reward for a given state and action.\n",
    "\n",
    "  Args:\n",
    "    state: The current state of the traffic signal system.\n",
    "    action: The action that was taken.\n",
    "\n",
    "  Returns:\n",
    "    A reward value.\n",
    "  \"\"\"\n",
    "\n",
    "  # Get the current number of cars waiting at each intersection.\n",
    "  num_cars_waiting = np.array([state[i][1] for i in range(4)])\n",
    "\n",
    "  # Calculate the reward based on the number of cars waiting.\n",
    "  reward = -np.sum(num_cars_waiting)\n",
    "\n",
    "  # Add a bonus reward if the light is green for the shortest queue.\n",
    "  shortest_queue_index = np.argmin(num_cars_waiting)\n",
    "  if action == shortest_queue_index:\n",
    "    reward += 10\n",
    "\n",
    "  # Add a penalty if the light is red for too long.\n",
    "  max_green_time = 5\n",
    "  if num_cars_waiting[action] == 0 and state[action][2] > max_green_time:\n",
    "    reward -= 10\n",
    "\n",
    "  return reward\n"
   ]
  }
 ],
 "metadata": {
  "kernelspec": {
   "display_name": "Python 3",
   "language": "python",
   "name": "python3"
  },
  "language_info": {
   "codemirror_mode": {
    "name": "ipython",
    "version": 3
   },
   "file_extension": ".py",
   "mimetype": "text/x-python",
   "name": "python",
   "nbconvert_exporter": "python",
   "pygments_lexer": "ipython3",
   "version": "3.11.3"
  },
  "orig_nbformat": 4
 },
 "nbformat": 4,
 "nbformat_minor": 2
}
