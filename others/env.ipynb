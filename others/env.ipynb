{
 "cells": [
  {
   "cell_type": "code",
   "execution_count": 5,
   "metadata": {},
   "outputs": [],
   "source": [
    "import numpy as np\n",
    "from PIL import Image\n",
    "import cv2\n",
    "import matplotlib.pyplot as plt\n",
    "import pickle\n",
    "from matplotlib import style\n",
    "import time\n",
    "style.use('ggplot')"
   ]
  },
  {
   "cell_type": "code",
   "execution_count": 6,
   "metadata": {},
   "outputs": [],
   "source": [
    "SIZE = 10\n",
    "EPISODES = 2500\n",
    "MOVE_PENALTY = 1\n",
    "ENEMY_PENALTY = 300\n",
    "FOOD_REWARD =25\n",
    "epsilon = 0.9\n",
    "EPS_DECAY = 0.9998\n",
    "SHOW_EVERY = 3000\n",
    "LEARNING_RATE = 0.1\n",
    "DISCOUNT = 0.95\n",
    "\n",
    "PLAYER_N = 1\n",
    "FOOD_N = 2\n",
    "ENEMY_N = 3\n",
    "\n",
    "start_q_table = None\n",
    "d={1:(255,175,0),2:(0,255,0),3:(0,0,255)}"
   ]
  },
  {
   "cell_type": "code",
   "execution_count": 7,
   "metadata": {},
   "outputs": [],
   "source": [
    "class Blob:\n",
    "    def __init__(self):\n",
    "        self.x = np.random.randint(0, SIZE)\n",
    "        self.y = np.random.randint(0, SIZE)\n",
    "\n",
    "    def __str__(self):\n",
    "        return f\"{self.x},{self.y}\"\n",
    "\n",
    "    def __sub__(self, other):\n",
    "        return (self.x - other.x, self.y - other.y)\n",
    "\n",
    "    def action(self, choice):\n",
    "        if choice == 0:\n",
    "            self.move(x=1, y=1)\n",
    "        elif choice == 1:\n",
    "            self.move(x=-1, y=-1)\n",
    "        elif choice == 2:\n",
    "            self.move(x=-1, y=1)\n",
    "        elif choice == 3:\n",
    "            self.move(x=1, y=-1)\n",
    "\n",
    "    def move(self, x=False, y=False):\n",
    "        if not x:\n",
    "            self.x += np.random.randint(-1, 2)\n",
    "        else:\n",
    "            self.x += x\n",
    "        if not y:\n",
    "            self.y += np.random.randint(-1, 2)\n",
    "        else:\n",
    "            self.y += y\n",
    "        \n",
    "        if self.x<0:\n",
    "            self.x = 0\n",
    "        elif self.x > SIZE-1:\n",
    "            self.x = SIZE-1\n",
    "        if self.y<0:\n",
    "            self.y = 0\n",
    "        elif self.y > SIZE-1:\n",
    "            self.y = SIZE-1\n",
    "        "
   ]
  },
  {
   "cell_type": "code",
   "execution_count": 8,
   "metadata": {},
   "outputs": [],
   "source": [
    "if start_q_table is None:\n",
    "    q_table = {}\n",
    "    for x1 in range(-SIZE+1,SIZE):\n",
    "      for y1 in range(-SIZE+1,SIZE):\n",
    "        for x2 in range(-SIZE+1,SIZE):\n",
    "          for y2 in range(-SIZE+1,SIZE):\n",
    "             q_table[((x1,y1),(x2,y2))] = [np.random.uniform(-5,0) for i in range(4)]\n",
    "else:\n",
    "   with open(start_q_table,\"rb\") as f:\n",
    "      q_table = pickle.load(f)"
   ]
  },
  {
   "cell_type": "code",
   "execution_count": 9,
   "metadata": {},
   "outputs": [
    {
     "name": "stdout",
     "output_type": "stream",
     "text": [
      "on #0,epsilon:0.9\n",
      "3000 ep mean nan\n"
     ]
    },
    {
     "name": "stderr",
     "output_type": "stream",
     "text": [
      "/usr/lib/python3.11/site-packages/numpy/core/fromnumeric.py:3504: RuntimeWarning: Mean of empty slice.\n",
      "  return _methods._mean(a, axis=axis, dtype=dtype,\n",
      "/usr/lib/python3.11/site-packages/numpy/core/_methods.py:129: RuntimeWarning: invalid value encountered in scalar divide\n",
      "  ret = ret.dtype.type(ret / rcount)\n"
     ]
    },
    {
     "data": {
      "image/png": "[encoded data removed]",
      "text/plain": [
       "<Figure size 640x480 with 1 Axes>"
      ]
     },
     "metadata": {},
     "output_type": "display_data"
    }
   ],
   "source": [
    "eps_rwds = []\n",
    "for episode in range(EPISODES):\n",
    "    player = Blob()\n",
    "    food = Blob()\n",
    "    enemy = Blob()\n",
    "\n",
    "    if episode%SHOW_EVERY == 0:\n",
    "        print(f\"on #{episode},epsilon:{epsilon}\")\n",
    "        print(f\"{SHOW_EVERY} ep mean {np.mean(eps_rwds[-SHOW_EVERY:])}\")\n",
    "        show = False\n",
    "    else:\n",
    "        show = True\n",
    "    \n",
    "    eps_rwd  = 0\n",
    "    for i in range(200):\n",
    "        obs = (player-food, player-enemy)\n",
    "        if np.random.random()>epsilon:\n",
    "            action = np.argmax(q_table[obs])\n",
    "        else:\n",
    "            action = np.random.randint(0,4)\n",
    "    \n",
    "    player.action(action)\n",
    "\n",
    "    if player.x == enemy.x and player.y == enemy.y:\n",
    "        reward = -ENEMY_PENALTY\n",
    "    elif player.x == food.x and player.y == food.y:\n",
    "        reward = FOOD_REWARD\n",
    "    else:\n",
    "        reward = -MOVE_PENALTY\n",
    "    \n",
    "    new_obs = (player-food,player-enemy)\n",
    "    max_future_q = np.max(q_table[new_obs])\n",
    "    current_q = q_table[obs][action]\n",
    "\n",
    "    if reward == FOOD_REWARD:\n",
    "        new_q = FOOD_REWARD\n",
    "    elif reward == -ENEMY_PENALTY:\n",
    "        new_q == -ENEMY_PENALTY\n",
    "    else:\n",
    "        new_q = (1-LEARNING_RATE)*current_q+LEARNING_RATE+(reward+DISCOUNT*max_future_q)\n",
    "    \n",
    "    q_table[obs][action] = new_q\n",
    "\n",
    "    if show:\n",
    "        env = np.zeros((SIZE,SIZE,3),dtype=np.uint8)\n",
    "        env[food.y][food.x] = d[FOOD_N]\n",
    "        env[player.y][player.x] = d[PLAYER_N]\n",
    "        env[enemy.y][enemy.x] = d[ENEMY_N]\n",
    "\n",
    "        img = Image.fromarray(env,'RGB')\n",
    "        img = img.resize((600,600))\n",
    "        cv2.imshow(\"\",np.array(img))\n",
    "\n",
    "        if reward == FOOD_REWARD or reward == -ENEMY_PENALTY:\n",
    "            if cv2.waitKey(500) & 0xFF == ord('q'):\n",
    "                break\n",
    "        else:\n",
    "            if cv2.waitKey(1) & 0xFF == ord('q'):\n",
    "                break\n",
    "    \n",
    "        eps_rwd += reward\n",
    "        if reward == FOOD_REWARD or reward == -ENEMY_PENALTY:\n",
    "            break\n",
    "    \n",
    "    eps_rwds.append(eps_rwd)\n",
    "    epsilon *= EPS_DECAY\n",
    "\n",
    "moving_avg = np.convolve(eps_rwds, np.ones((SHOW_EVERY,))/SHOW_EVERY, mode='valid')\n",
    "\n",
    "plt.plot([i for i in range(len(moving_avg))],moving_avg)\n",
    "plt.ylabel(f\"reward {SHOW_EVERY}ma\")\n",
    "plt.xlabel(f\"episode #\")\n",
    "plt.show()\n",
    "\n",
    "with open(f\"qtable-{int(time.time())}.pickle\",\"wb\") as f:\n",
    "    pickle.dump(q_table,f)"
   ]
  }
 ],
 "metadata": {
  "kernelspec": {
   "display_name": "Python 3",
   "language": "python",
   "name": "python3"
  },
  "language_info": {
   "codemirror_mode": {
    "name": "ipython",
    "version": 3
   },
   "file_extension": ".py",
   "mimetype": "text/x-python",
   "name": "python",
   "nbconvert_exporter": "python",
   "pygments_lexer": "ipython3",
   "version": "3.11.3"
  },
  "orig_nbformat": 4
 },
 "nbformat": 4,
 "nbformat_minor": 2
}
