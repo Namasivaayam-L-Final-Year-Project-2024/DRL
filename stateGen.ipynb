{
 "cells": [
  {
   "cell_type": "code",
   "execution_count": 9,
   "metadata": {},
   "outputs": [],
   "source": [
    "TIME=5\n",
    "import time\n",
    "import random as rd\n",
    "\n",
    "def wait(n): \n",
    "  time.sleep(n)\n",
    "def get_min_idx(list_):\n",
    "  min_value = min(list_)\n",
    "  min_idx = list_.index(min_value)\n",
    "  return min_idx\n",
    "def gen_rd_val(n):\n",
    "  # values = []\n",
    "  # for _ in range(4):\n",
    "  #   values.append(rd.randint(0, 10))\n",
    "  # return values\n",
    "  return [rd.randint(0,10) for _ in range(n) ]\n"
   ]
  },
  {
   "cell_type": "code",
   "execution_count": 10,
   "metadata": {},
   "outputs": [
    {
     "name": "stdout",
     "output_type": "stream",
     "text": [
      "[[6, 9, 0, 3], [10, 9, 2, 10], [5, 9, 8, 3], [8, 0, 9, 2], [3, 8, 9, 5], [0, 7, 1, 3], [3, 3, 8, 7], [3, 10, 8, 7], [0, 10, 9, 3], [0, 6, 9, 4]]\n"
     ]
    }
   ],
   "source": [
    "def generate_values(n):\n",
    "  return [gen_rd_val(4) for _ in range(n) ]\n",
    "\n",
    "state_space = generate_values(10)\n",
    "print(state_space)"
   ]
  },
  {
   "cell_type": "code",
   "execution_count": 1,
   "metadata": {},
   "outputs": [],
   "source": [
    "# def generate_actions(states):\n",
    "#   actions=[]\n",
    "#   for i in range(len(states)):\n",
    "#     actions[i]=[0]*len(states[i])\n",
    "#     for j in range(states[i]):\n",
    "#       actions[i][j] = \n",
    "\n",
    "\n",
    "# action_space= generate_actions(state_space)"
   ]
  },
  {
   "cell_type": "code",
   "execution_count": 15,
   "metadata": {},
   "outputs": [
    {
     "name": "stdout",
     "output_type": "stream",
     "text": [
      "120\n",
      "30\n"
     ]
    }
   ],
   "source": [
    "def round_to_multiples_of_30(number):\n",
    "  \"\"\"Rounds a number to the nearest multiple of 30.\n",
    "\n",
    "  Args:\n",
    "    number: The number to round.\n",
    "\n",
    "  Returns:\n",
    "    The rounded number.\n",
    "  \"\"\"\n",
    "\n",
    "  remainder = number % 30\n",
    "  if remainder < 15:\n",
    "    return number - remainder\n",
    "  else:\n",
    "    return number + (30 - remainder)\n",
    "\n",
    "\n",
    "if __name__ == \"__main__\":\n",
    "  print(round_to_multiples_of_30(130))\n",
    "  print(round_to_multiples_of_30(15))\n"
   ]
  }
 ],
 "metadata": {
  "kernelspec": {
   "display_name": "Python 3",
   "language": "python",
   "name": "python3"
  },
  "language_info": {
   "codemirror_mode": {
    "name": "ipython",
    "version": 3
   },
   "file_extension": ".py",
   "mimetype": "text/x-python",
   "name": "python",
   "nbconvert_exporter": "python",
   "pygments_lexer": "ipython3",
   "version": "3.11.3"
  },
  "orig_nbformat": 4
 },
 "nbformat": 4,
 "nbformat_minor": 2
}
