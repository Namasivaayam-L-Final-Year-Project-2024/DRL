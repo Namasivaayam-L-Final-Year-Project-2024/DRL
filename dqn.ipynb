{
 "cells": [
  {
   "cell_type": "code",
   "execution_count": 1,
   "metadata": {},
   "outputs": [],
   "source": [
    "import pandas as pd\n",
    "import numpy as np\n",
    "import torch as T\n",
    "import torch.nn as nn\n",
    "import torch.nn.functional as F \n",
    "import torch.optim as optim"
   ]
  },
  {
   "cell_type": "code",
   "execution_count": 2,
   "metadata": {},
   "outputs": [],
   "source": [
    "data_file = './traffic_dataset.csv'\n",
    "df = pd.read_csv(data_file)\n",
    "columns_for_dqn =['lane_id','v1','s1','v2','s2','v3','s3','v4','s4','v5','s5','v6','s6','v7','s7','v8','s8','v9','s9','v10','s10','v11','s11','v12','s12','v13','s13','v14','s14','v15','s15','v16','s16','v17','s17','v18','s18','v19','s19','v20','s20','v21','s21','tot']\n",
    "dqn_data = df[columns_for_dqn]"
   ]
  },
  {
   "cell_type": "code",
   "execution_count": 3,
   "metadata": {},
   "outputs": [],
   "source": [
    "class DeepQNetwork(nn.Module):\n",
    "    def __init__(self,lr,input_dims,fc1_dims,fc2_dims,n_actions):\n",
    "        super(DeepQNetwork,self).__init__()\n",
    "        self.input_dims=input_dims\n",
    "        self.fc1_dims=fc1_dims\n",
    "        self.fc2_dims=fc2_dims\n",
    "        self.n_actions=n_actions\n",
    "        self.fc1=nn.Linear(*self.input_dims,self.fc1_dims)\n",
    "        self.fc2=nn.Linear(self.fc1_dims,self.fc2_dims)\n",
    "        self.fc3=nn.Linear(self.fc2_dims,self.n_actions)\n",
    "        self.optimizer = optim.Adam(self.parameters(),lr=lr)\n",
    "        self.loss = nn.MSELoss()\n",
    "        self.device = T.device('cuda:0' if T.cuda.is_available() else 'cpu')\n",
    "        self.to(self.device)\n",
    "    def forward(self,state):\n",
    "        x = F.relu(self.fc1(state))\n",
    "        x = F.relu(self.fc2(x))\n",
    "        return self.fc3(x)"
   ]
  },
  {
   "cell_type": "code",
   "execution_count": 4,
   "metadata": {},
   "outputs": [],
   "source": [
    "class Agent():\n",
    "    def __init__(self,gamma,epsilon,lr,input_dims,batch_size,n_actions,max_mem_size=100000,eps_end=0.01,eps_dec=5e-4):\n",
    "        self.gamma=gamma\n",
    "        self.epsilon=epsilon\n",
    "        self.lr=lr\n",
    "        self.batch_size=batch_size\n",
    "        self.mem_size=max_mem_size\n",
    "        self.eps_end=eps_end\n",
    "        self.eps_dec=eps_dec\n",
    "        self.mem_cntr = 0\n",
    "        self.action_space = [i for i in range(n_actions)]\n",
    "        \n",
    "        self.Q_eval = DeepQNetwork(self.lr,n_actions=n_actions,input_dims=input_dims,fc1_dims=256,fc2_dims=256)\n",
    "        \n",
    "        self.state_memory = np.zeros((self.mem_size,*input_dims),dtype=np.float32)\n",
    "        self.new_state_memory = np.zeros((self.mem_size, *input_dims),dtype=np.float32)\n",
    "        self.action_memory = np.zeros(self.mem_size,dtype=np.float32)\n",
    "        self.reward_memory = np.zeros(self.mem_size,dtype=np.float32)\n",
    "        self.terminal_memory = np.zeros(self.mem_size,dtype=bool)\n",
    "    \n",
    "    def store_transition(self,state,action,reward,state_,done):\n",
    "        index = self.mem_cntr % self.mem_size\n",
    "        self.state_memory[index] = state\n",
    "        self.new_state_memory[index] = state_\n",
    "        self.reward_memory[index] = reward\n",
    "        self.action_memory[index] = action\n",
    "        self.terminal_memory[index] = done\n",
    "    \n",
    "    def choose_action(self,observation):\n",
    "        if np.random.random()>self.epsilon:\n",
    "            state = T.tensor([observation]).to(self.Q_eval.device)\n",
    "            actions = self.Q_eval.forward(state)\n",
    "            action = T.argmax(actions).item()\n",
    "        else:\n",
    "            action = np.random.choice(self.action_space)\n",
    "        return action\n",
    "\n",
    "    def learn(self):\n",
    "        if self.mem_cntr<self.batch_size:\n",
    "            return\n",
    "        \n",
    "        self.Q_eval.optimizer.zero_grad()\n",
    "        \n",
    "        max_mem = min(self.mem_cntr,self.mem_size)\n",
    "        batch = np.random.choice(max_mem,self.batch_size,replace=False)\n",
    "        \n",
    "        batch_index = np.arange(self.batch_size,dtype=np.int32)\n",
    "        state_batch = T.tensor(self.state_memory[batch]).to(self.Q_eval.device)\n",
    "        new_state_batch = T.tensor(self.new_state_memory[batch]).to(self.Q_eval.device)\n",
    "        reward_batch = T.tensor(self.reward_memory[batch]).to(self.Q_eval.device)\n",
    "        terminal_batch = T.tensor(self.terminal_memory[batch]).to(self.Q_eval.device)\n",
    "        action_batch = self.action_memory[batch]\n",
    "        \n",
    "        q_eval = self.Q_eval.forward(state_batch)[batch_index,action_batch]\n",
    "        q_next = self.Q_eval.forward(new_state_batch)\n",
    "        q_next[terminal_batch] = 0.0\n",
    "        q_target = reward_batch + self.gamma * T.max(q_next,dim=1)[0]\n",
    "        loss = self.Q_eval.loss(q_target,q_eval).to(self.Q_eval.device)\n",
    "        loss.backward()\n",
    "        self.Q_eval.optimizer.step()\n",
    "        \n",
    "        self.epsilon = self.epsilon - self.eps_dec if self.epsilon > self.eps_min else self.eps_min"
   ]
  },
  {
   "cell_type": "code",
   "execution_count": 5,
   "metadata": {},
   "outputs": [],
   "source": [
    "import matplotlib.pyplot as plt\n",
    "\n",
    "def plot_learning_curve(x, scores, epsilons, filename, lines=None):\n",
    "    fig=plt.figure()\n",
    "    ax=fig.add_subplot(111, label=\"1\")\n",
    "    ax2=fig.add_subplot(111, label=\"2\", frame_on=False)\n",
    "\n",
    "    ax.plot(x, epsilons, color=\"C0\")\n",
    "    ax.set_xlabel(\"Training Steps\", color=\"C0\")\n",
    "    ax.set_ylabel(\"Epsilon\", color=\"C0\")\n",
    "    ax.tick_params(axis='x', colors=\"C0\")\n",
    "    ax.tick_params(axis='y', colors=\"C0\")\n",
    "\n",
    "    N = len(scores)\n",
    "    running_avg = np.empty(N)\n",
    "    for t in range(N):\n",
    "        running_avg[t] = np.mean(scores[max(0, t-20):(t+1)]) \n",
    "    ax2.scatter(x, running_avg, color=\"C1\")\n",
    "    ax2.axes.get_xaxis().set_visible(False)\n",
    "    ax2.yaxis.tick_right()\n",
    "    ax2.set_ylabel('Score', color=\"C1\")\n",
    "    ax2.yaxis.set_label_position('right')\n",
    "    ax2.tick_params(axis='y', colors=\"C1\")\n",
    "\n",
    "    if lines is not None:\n",
    "        for line in lines:\n",
    "            plt.axvline(x=line)\n",
    "\n",
    "    plt.savefig(filename)\n"
   ]
  },
  {
   "cell_type": "code",
   "execution_count": 6,
   "metadata": {},
   "outputs": [
    {
     "name": "stdout",
     "output_type": "stream",
     "text": [
      "(array([-0.00895948,  1.433005  , -0.44700927,  0.4781685 ,  0.00831176,\n",
      "        0.0613442 ,  0.        ,  0.        ], dtype=float32), 1.1742959116914744, False, False, {})\n"
     ]
    },
    {
     "ename": "ValueError",
     "evalue": "setting an array element with a sequence. The requested array would exceed the maximum number of dimension of 1.",
     "output_type": "error",
     "traceback": [
      "\u001b[0;31m---------------------------------------------------------------------------\u001b[0m",
      "\u001b[0;31mValueError\u001b[0m                                Traceback (most recent call last)",
      "\u001b[1;32m/home/namachu/Documents/Project/PT/DRL/dqn.ipynb Cell 6\u001b[0m line \u001b[0;36m1\n\u001b[1;32m     <a href='vscode-notebook-cell:/home/namachu/Documents/Project/PT/DRL/dqn.ipynb#W5sZmlsZQ%3D%3D?line=12'>13</a>\u001b[0m observation_, reward, done, info,_ \u001b[39m=\u001b[39m env\u001b[39m.\u001b[39mstep(action)\n\u001b[1;32m     <a href='vscode-notebook-cell:/home/namachu/Documents/Project/PT/DRL/dqn.ipynb#W5sZmlsZQ%3D%3D?line=13'>14</a>\u001b[0m score \u001b[39m+\u001b[39m\u001b[39m=\u001b[39m reward\n\u001b[0;32m---> <a href='vscode-notebook-cell:/home/namachu/Documents/Project/PT/DRL/dqn.ipynb#W5sZmlsZQ%3D%3D?line=14'>15</a>\u001b[0m agent\u001b[39m.\u001b[39;49mstore_transition(observation, action, reward, \n\u001b[1;32m     <a href='vscode-notebook-cell:/home/namachu/Documents/Project/PT/DRL/dqn.ipynb#W5sZmlsZQ%3D%3D?line=15'>16</a>\u001b[0m                         observation_, done)\n\u001b[1;32m     <a href='vscode-notebook-cell:/home/namachu/Documents/Project/PT/DRL/dqn.ipynb#W5sZmlsZQ%3D%3D?line=16'>17</a>\u001b[0m agent\u001b[39m.\u001b[39mlearn()\n\u001b[1;32m     <a href='vscode-notebook-cell:/home/namachu/Documents/Project/PT/DRL/dqn.ipynb#W5sZmlsZQ%3D%3D?line=17'>18</a>\u001b[0m observation \u001b[39m=\u001b[39m observation_\n",
      "\u001b[1;32m/home/namachu/Documents/Project/PT/DRL/dqn.ipynb Cell 6\u001b[0m line \u001b[0;36m2\n\u001b[1;32m     <a href='vscode-notebook-cell:/home/namachu/Documents/Project/PT/DRL/dqn.ipynb#W5sZmlsZQ%3D%3D?line=20'>21</a>\u001b[0m \u001b[39mdef\u001b[39;00m \u001b[39mstore_transition\u001b[39m(\u001b[39mself\u001b[39m,state,action,reward,state_,done):\n\u001b[1;32m     <a href='vscode-notebook-cell:/home/namachu/Documents/Project/PT/DRL/dqn.ipynb#W5sZmlsZQ%3D%3D?line=21'>22</a>\u001b[0m     index \u001b[39m=\u001b[39m \u001b[39mself\u001b[39m\u001b[39m.\u001b[39mmem_cntr \u001b[39m%\u001b[39m \u001b[39mself\u001b[39m\u001b[39m.\u001b[39mmem_size\n\u001b[0;32m---> <a href='vscode-notebook-cell:/home/namachu/Documents/Project/PT/DRL/dqn.ipynb#W5sZmlsZQ%3D%3D?line=22'>23</a>\u001b[0m     \u001b[39mself\u001b[39;49m\u001b[39m.\u001b[39;49mstate_memory[index] \u001b[39m=\u001b[39m state\n\u001b[1;32m     <a href='vscode-notebook-cell:/home/namachu/Documents/Project/PT/DRL/dqn.ipynb#W5sZmlsZQ%3D%3D?line=23'>24</a>\u001b[0m     \u001b[39mself\u001b[39m\u001b[39m.\u001b[39mnew_state_memory[index] \u001b[39m=\u001b[39m state_\n\u001b[1;32m     <a href='vscode-notebook-cell:/home/namachu/Documents/Project/PT/DRL/dqn.ipynb#W5sZmlsZQ%3D%3D?line=24'>25</a>\u001b[0m     \u001b[39mself\u001b[39m\u001b[39m.\u001b[39mreward_memory[index] \u001b[39m=\u001b[39m reward\n",
      "\u001b[0;31mValueError\u001b[0m: setting an array element with a sequence. The requested array would exceed the maximum number of dimension of 1."
     ]
    }
   ],
   "source": [
    "import gym\n",
    "\n",
    "env = gym.make('LunarLander-v2')\n",
    "agent = Agent(gamma=0.99, epsilon=1.0, batch_size=64,n_actions=4,eps_end=.01, input_dims=[8],lr=0.03)\n",
    "scores,eps_history = [],[]\n",
    "n_games = 500\n",
    "\n",
    "for i in range(n_games):\n",
    "    score,done,observation=0,False,env.reset()\n",
    "    while not done:\n",
    "        action = agent.choose_action(observation)\n",
    "        print(env.step(action))\n",
    "        observation_, reward, done, info,_ = env.step(action)\n",
    "        score += reward\n",
    "        agent.store_transition(observation, action, reward, \n",
    "                                observation_, done)\n",
    "        agent.learn()\n",
    "        observation = observation_\n",
    "    scores.append(score)\n",
    "    eps_history.append(agent.epsilon)\n",
    "    avg_score = np.mean(scores[-100:])\n",
    "    print('episode:',i,'score: %.2f' % score, 'avg_score: %.2f' % agent.epsilon)\n",
    "x = [i+1 for i in range(n_games)]\n",
    "file_name = 'lunar_lander_23.png'\n"
   ]
  }
 ],
 "metadata": {
  "kernelspec": {
   "display_name": "Python 3",
   "language": "python",
   "name": "python3"
  },
  "language_info": {
   "codemirror_mode": {
    "name": "ipython",
    "version": 3
   },
   "file_extension": ".py",
   "mimetype": "text/x-python",
   "name": "python",
   "nbconvert_exporter": "python",
   "pygments_lexer": "ipython3",
   "version": "3.8.10"
  },
  "orig_nbformat": 4
 },
 "nbformat": 4,
 "nbformat_minor": 2
}
