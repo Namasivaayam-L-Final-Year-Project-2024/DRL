{
 "cells": [
  {
   "cell_type": "code",
   "execution_count": 18,
   "metadata": {},
   "outputs": [],
   "source": [
    "import csv\n",
    "import random   \n",
    "from functools import reduce"
   ]
  },
  {
   "cell_type": "code",
   "execution_count": 37,
   "metadata": {},
   "outputs": [
    {
     "name": "stdout",
     "output_type": "stream",
     "text": [
      "Dataset generation complete. Check 'traffic_dataset.csv'.\n"
     ]
    }
   ],
   "source": [
    "num_lanes = 4\n",
    "num_time_steps = 100\n",
    "with open('traffic_dataset.csv', mode='w', newline='') as file:\n",
    "    writer = csv.writer(file)\n",
    "    header_list = list(zip([f'v{i}' for i in range(1, 22)],[f's{i}' for i in range(1, 22)]))\n",
    "    header_list = ','.join([f'{item[0]},{item[1]}' for item in header_list])\n",
    "    header = ['lane_id','v1','s1','v2','s2','v3','s3','v4','s4','v5','s5','v6','s6','v7','s7','v8','s8','v9','s9','v10','s10','v11','s11','v12','s12','v13','s13','v14','s14','v15','s15','v16','s16','v17','s17','v18','s18','v19','s19','v20','s20','v21','s21','tot']\n",
    "    writer.writerow(header)\n",
    "    vehicle_id_counter = 0\n",
    "    for time_step in range(num_time_steps):\n",
    "        row = [time_step % num_lanes + 1]\n",
    "        total_vehicles = random.randint(1, 25)\n",
    "        for _ in range(25):\n",
    "            if _ < total_vehicles:\n",
    "                vehicle_id_counter += 1\n",
    "                row.append(vehicle_id_counter)\n",
    "                row.append(random.randint(0, 30))\n",
    "            else:\n",
    "                row.append(0)\n",
    "                row.append(0)\n",
    "        while len(row) < 22:\n",
    "            row.append(0)\n",
    "        row.append(total_vehicles)\n",
    "        writer.writerow(row)\n",
    "print(\"Dataset generation complete. Check 'traffic_dataset.csv'.\")"
   ]
  }
 ],
 "metadata": {
  "kernelspec": {
   "display_name": "Python 3",
   "language": "python",
   "name": "python3"
  },
  "language_info": {
   "codemirror_mode": {
    "name": "ipython",
    "version": 3
   },
   "file_extension": ".py",
   "mimetype": "text/x-python",
   "name": "python",
   "nbconvert_exporter": "python",
   "pygments_lexer": "ipython3",
   "version": "3.11.3"
  },
  "orig_nbformat": 4
 },
 "nbformat": 4,
 "nbformat_minor": 2
}
